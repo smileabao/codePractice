{
  "nbformat": 4,
  "nbformat_minor": 0,
  "metadata": {
    "colab": {
      "name": "Tensflow keras架設簡單線性回歸.ipynb",
      "provenance": [],
      "collapsed_sections": [],
      "authorship_tag": "ABX9TyOeWoRe+34tY6dj/8M6QZL+",
      "include_colab_link": true
    },
    "kernelspec": {
      "name": "python3",
      "display_name": "Python 3"
    }
  },
  "cells": [
    {
      "cell_type": "markdown",
      "metadata": {
        "id": "view-in-github",
        "colab_type": "text"
      },
      "source": [
        "<a href=\"https://colab.research.google.com/github/smileabao/codePractice/blob/master/Tensflow_keras%E6%9E%B6%E8%A8%AD%E7%B0%A1%E5%96%AE%E7%B7%9A%E6%80%A7%E5%9B%9E%E6%AD%B8.ipynb\" target=\"_parent\"><img src=\"https://colab.research.google.com/assets/colab-badge.svg\" alt=\"Open In Colab\"/></a>"
      ]
    },
    {
      "cell_type": "markdown",
      "metadata": {
        "id": "hIfwPINzp2Ai"
      },
      "source": [
        "### 先將tensorflow下載"
      ]
    },
    {
      "cell_type": "code",
      "metadata": {
        "id": "UUnKvfUjn3Pd"
      },
      "source": [
        "pip install -q tensorflow==2.0.0"
      ],
      "execution_count": 4,
      "outputs": []
    },
    {
      "cell_type": "markdown",
      "metadata": {
        "id": "TaY2q24cp7qE"
      },
      "source": [
        "### 將boston資料import到系統中\n"
      ]
    },
    {
      "cell_type": "code",
      "metadata": {
        "id": "KtXZExK5ooJX"
      },
      "source": [
        "from sklearn.datasets import load_boston"
      ],
      "execution_count": 2,
      "outputs": []
    },
    {
      "cell_type": "code",
      "metadata": {
        "id": "emzANTYLo3S4"
      },
      "source": [
        "Boston=load_boston()\n",
        "Boston"
      ],
      "execution_count": null,
      "outputs": []
    },
    {
      "cell_type": "code",
      "metadata": {
        "id": "mtMu9Y71qbqh"
      },
      "source": [
        "import pandas as pd"
      ],
      "execution_count": 5,
      "outputs": []
    },
    {
      "cell_type": "code",
      "metadata": {
        "id": "EaUjyWA4qzQB"
      },
      "source": [
        "TB=pd.DataFrame(data = Boston.data,columns=Boston.feature_names)"
      ],
      "execution_count": 6,
      "outputs": []
    },
    {
      "cell_type": "code",
      "metadata": {
        "id": "LR5Id7fTrGNg"
      },
      "source": [
        "#這裡還不會有MEDEV\n",
        "TB.head()"
      ],
      "execution_count": null,
      "outputs": []
    },
    {
      "cell_type": "code",
      "metadata": {
        "id": "QrsxgnDzrUmS"
      },
      "source": [
        "TB['MEDV']=Boston.target"
      ],
      "execution_count": 8,
      "outputs": []
    },
    {
      "cell_type": "code",
      "metadata": {
        "id": "ak9b5I-zryil"
      },
      "source": [
        "#這裡就會有MEDV\n",
        "TB.head()"
      ],
      "execution_count": null,
      "outputs": []
    },
    {
      "cell_type": "markdown",
      "metadata": {
        "id": "gK1B22qWtK6h"
      },
      "source": [
        "### 畫圖"
      ]
    },
    {
      "cell_type": "code",
      "metadata": {
        "id": "Lqwm7Njcr2Jt"
      },
      "source": [
        "import seaborn as sns"
      ],
      "execution_count": 11,
      "outputs": []
    },
    {
      "cell_type": "code",
      "metadata": {
        "colab": {
          "base_uri": "https://localhost:8080/",
          "height": 358
        },
        "id": "Roaoc-qHsEu0",
        "outputId": "4b4e7624-edfa-4cba-c5c3-f226ad546e82"
      },
      "source": [
        "sns.scatterplot(TB['LSTAT'],TB.MEDV)"
      ],
      "execution_count": 12,
      "outputs": [
        {
          "output_type": "stream",
          "text": [
            "/usr/local/lib/python3.6/dist-packages/seaborn/_decorators.py:43: FutureWarning: Pass the following variables as keyword args: x, y. From version 0.12, the only valid positional argument will be `data`, and passing other arguments without an explicit keyword will result in an error or misinterpretation.\n",
            "  FutureWarning\n"
          ],
          "name": "stderr"
        },
        {
          "output_type": "execute_result",
          "data": {
            "text/plain": [
              "<matplotlib.axes._subplots.AxesSubplot at 0x7f89ed6fb978>"
            ]
          },
          "metadata": {
            "tags": []
          },
          "execution_count": 12
        },
        {
          "output_type": "display_data",
          "data": {
            "image/png": "[encoded data removed]",
            "text/plain": [
              "<Figure size 432x288 with 1 Axes>"
            ]
          },
          "metadata": {
            "tags": [],
            "needs_background": "light"
          }
        }
      ]
    },
    {
      "cell_type": "markdown",
      "metadata": {
        "id": "njmoOOljwIUO"
      },
      "source": [
        "### 架設網路 Build Simple Linear Regression by Keras"
      ]
    },
    {
      "cell_type": "code",
      "metadata": {
        "id": "F1D3kdmRttZv"
      },
      "source": [
        "import tensorflow as tf\n",
        "from tensorflow import keras\n",
        "from tensorflow.keras import layers"
      ],
      "execution_count": 15,
      "outputs": []
    },
    {
      "cell_type": "code",
      "metadata": {
        "id": "ROU_tB51tweO"
      },
      "source": [
        "#建立一個次序的網路\n",
        "LR=keras.Sequential(name='Linear Regression')\n",
        "#建立網路,input_shpae(1,) 1=>代表一層網路 \n",
        "#             逗點後代表不知道會有幾個參數進來\n",
        "LR.add(layers.Dense(1,input_shape=(1,)))\n",
        "LR.summary()"
      ],
      "execution_count": null,
      "outputs": []
    },
    {
      "cell_type": "code",
      "metadata": {
        "id": "PPbz1seSv7uD"
      },
      "source": [
        "keras.utils.plot_model(LR)"
      ],
      "execution_count": null,
      "outputs": []
    },
    {
      "cell_type": "markdown",
      "metadata": {
        "id": "87zyWmPOw65B"
      },
      "source": [
        "### 開始訓練網路 Train the Model"
      ]
    },
    {
      "cell_type": "code",
      "metadata": {
        "id": "wdyEn2zRw4os"
      },
      "source": [
        "#給兩個參數訓練方式 和 Loss Function\n",
        "LR.compile(keras.optimizers.Adam(0.01),\n",
        "           loss=keras.losses.MeanSquaredError())"
      ],
      "execution_count": 20,
      "outputs": []
    },
    {
      "cell_type": "code",
      "metadata": {
        "id": "O_XFofw9xvAL"
      },
      "source": [
        "LR.fit(TB.LSTAT,TB.MEDV,epochs=1000)"
      ],
      "execution_count": null,
      "outputs": []
    },
    {
      "cell_type": "code",
      "metadata": {
        "colab": {
          "base_uri": "https://localhost:8080/"
        },
        "id": "Kdv_rKGCv_bW",
        "outputId": "90cb9bb5-75af-46fb-fd29-f1f0d8df1829"
      },
      "source": [
        "LR.weights"
      ],
      "execution_count": 24,
      "outputs": [
        {
          "output_type": "execute_result",
          "data": {
            "text/plain": [
              "[<tf.Variable 'dense/kernel:0' shape=(1, 1) dtype=float32, numpy=array([[-0.9498782]], dtype=float32)>,\n",
              " <tf.Variable 'dense/bias:0' shape=(1,) dtype=float32, numpy=array([34.54514], dtype=float32)>]"
            ]
          },
          "metadata": {
            "tags": []
          },
          "execution_count": 24
        }
      ]
    },
    {
      "cell_type": "markdown",
      "metadata": {
        "id": "80cT-IPZzhkv"
      },
      "source": [
        "### Prediction (預測開始)"
      ]
    },
    {
      "cell_type": "code",
      "metadata": {
        "colab": {
          "base_uri": "https://localhost:8080/"
        },
        "id": "qj8KJTSGzLj0",
        "outputId": "e7a37e2d-a17a-4812-bd3e-0e7ee088944a"
      },
      "source": [
        "myPre=LR.predict(TB.LSTAT)"
      ],
      "execution_count": 25,
      "outputs": [
        {
          "output_type": "stream",
          "text": [
            "WARNING:tensorflow:Falling back from v2 loop because of error: Failed to find data adapter that can handle input: <class 'pandas.core.series.Series'>, <class 'NoneType'>\n"
          ],
          "name": "stdout"
        }
      ]
    },
    {
      "cell_type": "code",
      "metadata": {
        "colab": {
          "base_uri": "https://localhost:8080/",
          "height": 397
        },
        "id": "ybyySb6Jz0wC",
        "outputId": "e65d4d30-0467-4e48-872a-d0c437b259a3"
      },
      "source": [
        "sns.scatterplot(TB.LSTAT,TB.MEDV)\n",
        "sns.lineplot(TB.LSTAT,myPre[:,0],color='red')"
      ],
      "execution_count": 27,
      "outputs": [
        {
          "output_type": "stream",
          "text": [
            "/usr/local/lib/python3.6/dist-packages/seaborn/_decorators.py:43: FutureWarning: Pass the following variables as keyword args: x, y. From version 0.12, the only valid positional argument will be `data`, and passing other arguments without an explicit keyword will result in an error or misinterpretation.\n",
            "  FutureWarning\n",
            "/usr/local/lib/python3.6/dist-packages/seaborn/_decorators.py:43: FutureWarning: Pass the following variables as keyword args: x, y. From version 0.12, the only valid positional argument will be `data`, and passing other arguments without an explicit keyword will result in an error or misinterpretation.\n",
            "  FutureWarning\n"
          ],
          "name": "stderr"
        },
        {
          "output_type": "execute_result",
          "data": {
            "text/plain": [
              "<matplotlib.axes._subplots.AxesSubplot at 0x7f89d2bf3d68>"
            ]
          },
          "metadata": {
            "tags": []
          },
          "execution_count": 27
        },
        {
          "output_type": "display_data",
          "data": {
            "image/png": "[encoded data removed]",
            "text/plain": [
              "<Figure size 432x288 with 1 Axes>"
            ]
          },
          "metadata": {
            "tags": [],
            "needs_background": "light"
          }
        }
      ]
    },
    {
      "cell_type": "code",
      "metadata": {
        "id": "BA2RtBb-0GE5"
      },
      "source": [
        ""
      ],
      "execution_count": null,
      "outputs": []
    }
  ]
}